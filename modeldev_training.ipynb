{
 "cells": [
  {
   "cell_type": "code",
   "execution_count": 14,
   "metadata": {},
   "outputs": [],
   "source": [
    "import tensorflow as tf\n",
    "import json\n",
    "from tensorflow.keras.models import Model\n",
    "from tensorflow.keras.layers import Input, Conv2D, Dense, GlobalMaxPooling2D\n",
    "from tensorflow.keras.applications import VGG16"
   ]
  },
  {
   "cell_type": "code",
   "execution_count": 2,
   "metadata": {},
   "outputs": [],
   "source": [
    "vgg = VGG16(include_top=False)"
   ]
  },
  {
   "cell_type": "code",
   "execution_count": 3,
   "metadata": {},
   "outputs": [
    {
     "name": "stdout",
     "output_type": "stream",
     "text": [
      "Model: \"vgg16\"\n",
      "_________________________________________________________________\n",
      " Layer (type)                Output Shape              Param #   \n",
      "=================================================================\n",
      " input_1 (InputLayer)        [(None, None, None, 3)]   0         \n",
      "                                                                 \n",
      " block1_conv1 (Conv2D)       (None, None, None, 64)    1792      \n",
      "                                                                 \n",
      " block1_conv2 (Conv2D)       (None, None, None, 64)    36928     \n",
      "                                                                 \n",
      " block1_pool (MaxPooling2D)  (None, None, None, 64)    0         \n",
      "                                                                 \n",
      " block2_conv1 (Conv2D)       (None, None, None, 128)   73856     \n",
      "                                                                 \n",
      " block2_conv2 (Conv2D)       (None, None, None, 128)   147584    \n",
      "                                                                 \n",
      " block2_pool (MaxPooling2D)  (None, None, None, 128)   0         \n",
      "                                                                 \n",
      " block3_conv1 (Conv2D)       (None, None, None, 256)   295168    \n",
      "                                                                 \n",
      " block3_conv2 (Conv2D)       (None, None, None, 256)   590080    \n",
      "                                                                 \n",
      " block3_conv3 (Conv2D)       (None, None, None, 256)   590080    \n",
      "                                                                 \n",
      " block3_pool (MaxPooling2D)  (None, None, None, 256)   0         \n",
      "                                                                 \n",
      " block4_conv1 (Conv2D)       (None, None, None, 512)   1180160   \n",
      "                                                                 \n",
      " block4_conv2 (Conv2D)       (None, None, None, 512)   2359808   \n",
      "                                                                 \n",
      " block4_conv3 (Conv2D)       (None, None, None, 512)   2359808   \n",
      "                                                                 \n",
      " block4_pool (MaxPooling2D)  (None, None, None, 512)   0         \n",
      "                                                                 \n",
      " block5_conv1 (Conv2D)       (None, None, None, 512)   2359808   \n",
      "                                                                 \n",
      " block5_conv2 (Conv2D)       (None, None, None, 512)   2359808   \n",
      "                                                                 \n",
      " block5_conv3 (Conv2D)       (None, None, None, 512)   2359808   \n",
      "                                                                 \n",
      " block5_pool (MaxPooling2D)  (None, None, None, 512)   0         \n",
      "                                                                 \n",
      "=================================================================\n",
      "Total params: 14,714,688\n",
      "Trainable params: 14,714,688\n",
      "Non-trainable params: 0\n",
      "_________________________________________________________________\n"
     ]
    }
   ],
   "source": [
    "vgg.summary()"
   ]
  },
  {
   "cell_type": "code",
   "execution_count": 4,
   "metadata": {},
   "outputs": [],
   "source": [
    "def build_model():\n",
    "    input_layer = Input(shape=(120,120,3))\n",
    "\n",
    "    vgg = VGG16(include_top=False)(input_layer)\n",
    "\n",
    "    # Classification Model\n",
    "    f1 = GlobalMaxPooling2D()(vgg)\n",
    "    class1 = Dense(2048, activation='relu')(f1)\n",
    "    class2 = Dense(1, activation='sigmoid')(class1)\n",
    "\n",
    "    # Bounding box model\n",
    "    f2 = GlobalMaxPooling2D()(vgg)\n",
    "    regress1 = Dense(2048, activation='relu')(f2)\n",
    "    regress2 = Dense(4, activation='sigmoid')(regress1)\n",
    "\n",
    "    facetracker = Model(inputs=input_layer, outputs=[class2, regress2])\n",
    "    return facetracker"
   ]
  },
  {
   "cell_type": "code",
   "execution_count": 5,
   "metadata": {},
   "outputs": [],
   "source": [
    "face_tracker = build_model()"
   ]
  },
  {
   "cell_type": "code",
   "execution_count": 6,
   "metadata": {},
   "outputs": [
    {
     "name": "stdout",
     "output_type": "stream",
     "text": [
      "Model: \"model\"\n",
      "__________________________________________________________________________________________________\n",
      " Layer (type)                   Output Shape         Param #     Connected to                     \n",
      "==================================================================================================\n",
      " input_2 (InputLayer)           [(None, 120, 120, 3  0           []                               \n",
      "                                )]                                                                \n",
      "                                                                                                  \n",
      " vgg16 (Functional)             (None, None, None,   14714688    ['input_2[0][0]']                \n",
      "                                512)                                                              \n",
      "                                                                                                  \n",
      " global_max_pooling2d (GlobalMa  (None, 512)         0           ['vgg16[0][0]']                  \n",
      " xPooling2D)                                                                                      \n",
      "                                                                                                  \n",
      " global_max_pooling2d_1 (Global  (None, 512)         0           ['vgg16[0][0]']                  \n",
      " MaxPooling2D)                                                                                    \n",
      "                                                                                                  \n",
      " dense (Dense)                  (None, 2048)         1050624     ['global_max_pooling2d[0][0]']   \n",
      "                                                                                                  \n",
      " dense_2 (Dense)                (None, 2048)         1050624     ['global_max_pooling2d_1[0][0]'] \n",
      "                                                                                                  \n",
      " dense_1 (Dense)                (None, 1)            2049        ['dense[0][0]']                  \n",
      "                                                                                                  \n",
      " dense_3 (Dense)                (None, 4)            8196        ['dense_2[0][0]']                \n",
      "                                                                                                  \n",
      "==================================================================================================\n",
      "Total params: 16,826,181\n",
      "Trainable params: 16,826,181\n",
      "Non-trainable params: 0\n",
      "__________________________________________________________________________________________________\n"
     ]
    }
   ],
   "source": [
    "face_tracker.summary()"
   ]
  },
  {
   "cell_type": "markdown",
   "metadata": {},
   "source": [
    "* **`Images`:**"
   ]
  },
  {
   "cell_type": "code",
   "execution_count": 8,
   "metadata": {},
   "outputs": [],
   "source": [
    "train_images = tf.data.Dataset.list_files('aug_data/train/images/*.jpg', shuffle = False)\n",
    "test_images  = tf.data.Dataset.list_files('aug_data/test/images/*.jpg', shuffle = False)\n",
    "val_images   = tf.data.Dataset.list_files('aug_data/val/images/*.jpg', shuffle = False)"
   ]
  },
  {
   "cell_type": "code",
   "execution_count": 9,
   "metadata": {},
   "outputs": [],
   "source": [
    "def load_img(file):\n",
    "    byte_img = tf.io.read_file(file)\n",
    "    img = tf.io.decode_jpeg(byte_img)\n",
    "    return img"
   ]
  },
  {
   "cell_type": "code",
   "execution_count": 10,
   "metadata": {},
   "outputs": [],
   "source": [
    "train_images = train_images.map(load_img)\n",
    "train_images = train_images.map(lambda img: tf.image.resize(img, (120, 120)))\n",
    "train_images = train_images.map(lambda img: img/255.)"
   ]
  },
  {
   "cell_type": "code",
   "execution_count": 11,
   "metadata": {},
   "outputs": [],
   "source": [
    "test_images = test_images.map(load_img)\n",
    "test_images = test_images.map(lambda img: tf.image.resize(img, (120, 120)))\n",
    "test_images = test_images.map(lambda img: img/255.)"
   ]
  },
  {
   "cell_type": "code",
   "execution_count": 12,
   "metadata": {},
   "outputs": [],
   "source": [
    "val_images = val_images.map(load_img)\n",
    "val_images = val_images.map(lambda img: tf.image.resize(img, (120, 120)))\n",
    "val_images = val_images.map(lambda img: img/255.)"
   ]
  },
  {
   "cell_type": "markdown",
   "metadata": {},
   "source": [
    "* **`Labels`:**"
   ]
  },
  {
   "cell_type": "code",
   "execution_count": 15,
   "metadata": {},
   "outputs": [],
   "source": [
    "def load_labels(label_path):\n",
    "    with open(label_path.numpy(), 'r', encoding = \"utf-8\") as f:\n",
    "        label = json.load(f)\n",
    "    return [label['class']], label['bbox']"
   ]
  },
  {
   "cell_type": "code",
   "execution_count": 16,
   "metadata": {},
   "outputs": [],
   "source": [
    "# loading\n",
    "train_labels = tf.data.Dataset.list_files('aug_data\\\\train\\\\labels\\\\*.json', shuffle=False)\n",
    "test_labels = tf.data.Dataset.list_files('aug_data\\\\test\\\\labels\\\\*.json', shuffle=False)\n",
    "val_labels = tf.data.Dataset.list_files('aug_data\\\\val\\\\labels\\\\*.json', shuffle=False)\n",
    "\n",
    "# mapping: load_labels\n",
    "train_labels = train_labels.map(lambda x: tf.py_function(load_labels, [x], [tf.uint8, tf.float16]))\n",
    "test_labels = test_labels.map(lambda x: tf.py_function(load_labels, [x], [tf.uint8, tf.float16]))\n",
    "val_labels = val_labels.map(lambda x: tf.py_function(load_labels, [x], [tf.uint8, tf.float16]))"
   ]
  },
  {
   "cell_type": "code",
   "execution_count": 18,
   "metadata": {},
   "outputs": [],
   "source": [
    "# Final datasets:\n",
    "\n",
    "# train:\n",
    "train = tf.data.Dataset.zip((train_images, train_labels))\n",
    "train = train.shuffle(5000)\n",
    "train = train.batch(8)\n",
    "train = train.prefetch(4)\n",
    "\n",
    "# test:\n",
    "test = tf.data.Dataset.zip((test_images, test_labels))\n",
    "test = test.shuffle(1300)\n",
    "test = test.batch(8)\n",
    "test = test.prefetch(4)\n",
    "\n",
    "# val:\n",
    "val = tf.data.Dataset.zip((val_images, val_labels))\n",
    "val = val.shuffle(1300)\n",
    "val = val.batch(8)\n",
    "val = val.prefetch(4)"
   ]
  },
  {
   "cell_type": "markdown",
   "metadata": {},
   "source": [
    "* **`roughwork` predictions before model training:**"
   ]
  },
  {
   "cell_type": "code",
   "execution_count": 19,
   "metadata": {},
   "outputs": [],
   "source": [
    "X, y = train.as_numpy_iterator().next()"
   ]
  },
  {
   "cell_type": "code",
   "execution_count": 20,
   "metadata": {},
   "outputs": [
    {
     "data": {
      "text/plain": [
       "(8, 120, 120, 3)"
      ]
     },
     "execution_count": 20,
     "metadata": {},
     "output_type": "execute_result"
    }
   ],
   "source": [
    "X.shape"
   ]
  },
  {
   "cell_type": "code",
   "execution_count": 21,
   "metadata": {},
   "outputs": [
    {
     "name": "stdout",
     "output_type": "stream",
     "text": [
      "1/1 [==============================] - 6s 6s/step\n"
     ]
    },
    {
     "data": {
      "text/plain": [
       "(array([[0.53622824],\n",
       "        [0.576071  ],\n",
       "        [0.58945495],\n",
       "        [0.56317836],\n",
       "        [0.5456299 ],\n",
       "        [0.5685137 ],\n",
       "        [0.55703914],\n",
       "        [0.57120353]], dtype=float32),\n",
       " array([[0.6095738 , 0.35149688, 0.56342566, 0.41515654],\n",
       "        [0.69287825, 0.34921786, 0.56753916, 0.40957657],\n",
       "        [0.64706063, 0.3123788 , 0.5829599 , 0.43730795],\n",
       "        [0.6251256 , 0.36461958, 0.5474446 , 0.4150628 ],\n",
       "        [0.63513726, 0.3723813 , 0.53968096, 0.43548992],\n",
       "        [0.6389125 , 0.35453114, 0.5431645 , 0.40807375],\n",
       "        [0.65106857, 0.37602043, 0.5454431 , 0.4098037 ],\n",
       "        [0.6848797 , 0.40236834, 0.57085824, 0.40227005]], dtype=float32))"
      ]
     },
     "execution_count": 21,
     "metadata": {},
     "output_type": "execute_result"
    }
   ],
   "source": [
    "classes, coords = face_tracker.predict(X)\n",
    "classes, coords"
   ]
  },
  {
   "cell_type": "markdown",
   "metadata": {},
   "source": [
    "* **Defining `losses` and `optimizers`:**"
   ]
  },
  {
   "cell_type": "code",
   "execution_count": 23,
   "metadata": {},
   "outputs": [],
   "source": [
    "batches_per_epoch = len(train)\n",
    "lr_decay = (1./0.75 -1)/batches_per_epoch\n",
    "opt = tf.keras.optimizers.Adam(learning_rate=0.0001, decay=lr_decay)"
   ]
  },
  {
   "cell_type": "code",
   "execution_count": 24,
   "metadata": {},
   "outputs": [
    {
     "data": {
      "text/plain": [
       "630"
      ]
     },
     "execution_count": 24,
     "metadata": {},
     "output_type": "execute_result"
    }
   ],
   "source": [
    "batches_per_epoch"
   ]
  },
  {
   "cell_type": "markdown",
   "metadata": {},
   "source": [
    "* **`Localization Loss`:**"
   ]
  },
  {
   "cell_type": "code",
   "execution_count": 25,
   "metadata": {},
   "outputs": [],
   "source": [
    "def localization_loss(y_true, yhat):\n",
    "    delta_coord = tf.reduce_sum(tf.square(y_true[:,:2] - yhat[:,:2]))\n",
    "\n",
    "    h_true = y_true[:,3] - y_true[:,1]\n",
    "    w_true = y_true[:,2] - y_true[:,0]\n",
    "\n",
    "    h_pred = yhat[:,3] - yhat[:,1]\n",
    "    w_pred = yhat[:,2] - yhat[:,0]\n",
    "\n",
    "    delta_size = tf.reduce_sum(tf.square(w_true - w_pred) + tf.square(h_true-h_pred))\n",
    "\n",
    "    return delta_coord + delta_size"
   ]
  },
  {
   "cell_type": "markdown",
   "metadata": {},
   "source": [
    "* **`Class Loss`:**"
   ]
  },
  {
   "cell_type": "code",
   "execution_count": 26,
   "metadata": {},
   "outputs": [],
   "source": [
    "classloss = tf.keras.losses.BinaryCrossentropy()\n",
    "regressloss = localization_loss"
   ]
  },
  {
   "cell_type": "markdown",
   "metadata": {},
   "source": [
    "* **Testing Loss metrics:**"
   ]
  },
  {
   "cell_type": "code",
   "execution_count": 27,
   "metadata": {},
   "outputs": [
    {
     "data": {
      "text/plain": [
       "<tf.Tensor: shape=(), dtype=float32, numpy=6.502864>"
      ]
     },
     "execution_count": 27,
     "metadata": {},
     "output_type": "execute_result"
    }
   ],
   "source": [
    "localization_loss(y[1], coords)"
   ]
  },
  {
   "cell_type": "code",
   "execution_count": 29,
   "metadata": {},
   "outputs": [
    {
     "data": {
      "text/plain": [
       "<tf.Tensor: shape=(), dtype=float32, numpy=0.57413846>"
      ]
     },
     "execution_count": 29,
     "metadata": {},
     "output_type": "execute_result"
    }
   ],
   "source": [
    "classloss(y[0], classes)"
   ]
  },
  {
   "cell_type": "code",
   "execution_count": 31,
   "metadata": {},
   "outputs": [
    {
     "data": {
      "text/plain": [
       "<tf.Tensor: shape=(), dtype=float32, numpy=6.502864>"
      ]
     },
     "execution_count": 31,
     "metadata": {},
     "output_type": "execute_result"
    }
   ],
   "source": [
    "regressloss(y[1], coords)"
   ]
  },
  {
   "cell_type": "markdown",
   "metadata": {},
   "source": [
    "* **Custom Model:**"
   ]
  },
  {
   "cell_type": "code",
   "execution_count": 32,
   "metadata": {},
   "outputs": [],
   "source": [
    "class FaceTracker(Model):\n",
    "    def __init__(self, eyetracker,  **kwargs):\n",
    "        super().__init__(**kwargs)\n",
    "        self.model = eyetracker\n",
    "\n",
    "    def compile(self, opt, classloss, localizationloss, **kwargs):\n",
    "        super().compile(**kwargs)\n",
    "        self.closs = classloss\n",
    "        self.lloss = localizationloss\n",
    "        self.opt = opt\n",
    "\n",
    "    def train_step(self, batch, **kwargs):\n",
    "\n",
    "        X, y = batch\n",
    "\n",
    "        with tf.GradientTape() as tape:\n",
    "            classes, coords = self.model(X, training=True)\n",
    "\n",
    "            batch_classloss = self.closs(y[0], classes)\n",
    "            batch_localizationloss = self.lloss(tf.cast(y[1], tf.float32), coords)\n",
    "\n",
    "            total_loss = batch_localizationloss+0.5*batch_classloss\n",
    "\n",
    "            grad = tape.gradient(total_loss, self.model.trainable_variables)\n",
    "\n",
    "        opt.apply_gradients(zip(grad, self.model.trainable_variables))\n",
    "\n",
    "        return {\"total_loss\":total_loss, \"class_loss\":batch_classloss, \"regress_loss\":batch_localizationloss}\n",
    "\n",
    "    def test_step(self, batch, **kwargs):\n",
    "        X, y = batch\n",
    "\n",
    "        classes, coords = self.model(X, training=False)\n",
    "\n",
    "        batch_classloss = self.closs(y[0], classes)\n",
    "        batch_localizationloss = self.lloss(tf.cast(y[1], tf.float32), coords)\n",
    "        total_loss = batch_localizationloss+0.5*batch_classloss\n",
    "\n",
    "        return {\"total_loss\":total_loss, \"class_loss\":batch_classloss, \"regress_loss\":batch_localizationloss}\n",
    "\n",
    "    def call(self, X, **kwargs):\n",
    "        return self.model(X, **kwargs)"
   ]
  },
  {
   "cell_type": "code",
   "execution_count": 34,
   "metadata": {},
   "outputs": [],
   "source": [
    "model = FaceTracker(face_tracker)\n",
    "model.compile(opt, classloss, regressloss)"
   ]
  },
  {
   "cell_type": "markdown",
   "metadata": {},
   "source": [
    "* **Training:**"
   ]
  },
  {
   "cell_type": "code",
   "execution_count": 35,
   "metadata": {},
   "outputs": [],
   "source": [
    "logdir='logs'\n",
    "tensorboard_callback = tf.keras.callbacks.TensorBoard(log_dir=logdir)"
   ]
  },
  {
   "cell_type": "code",
   "execution_count": 37,
   "metadata": {},
   "outputs": [
    {
     "name": "stdout",
     "output_type": "stream",
     "text": [
      "Epoch 1/30\n",
      "630/630 [==============================] - 58s 80ms/step - total_loss: 0.3883 - class_loss: 0.0961 - regress_loss: 0.3403 - val_total_loss: 0.1487 - val_class_loss: 0.0119 - val_regress_loss: 0.1427\n",
      "Epoch 2/30\n",
      "630/630 [==============================] - 55s 81ms/step - total_loss: 0.0976 - class_loss: 0.0299 - regress_loss: 0.0826 - val_total_loss: 0.0338 - val_class_loss: 0.0035 - val_regress_loss: 0.0321\n",
      "Epoch 3/30\n",
      "630/630 [==============================] - 57s 84ms/step - total_loss: 0.0608 - class_loss: 0.0205 - regress_loss: 0.0506 - val_total_loss: 0.0429 - val_class_loss: 0.0042 - val_regress_loss: 0.0408\n",
      "Epoch 4/30\n",
      "630/630 [==============================] - 58s 84ms/step - total_loss: 0.0551 - class_loss: 0.0167 - regress_loss: 0.0468 - val_total_loss: 0.0279 - val_class_loss: 0.0052 - val_regress_loss: 0.0253\n",
      "Epoch 5/30\n",
      "630/630 [==============================] - 59s 85ms/step - total_loss: 0.0345 - class_loss: 0.0117 - regress_loss: 0.0287 - val_total_loss: 0.0180 - val_class_loss: 6.2830e-05 - val_regress_loss: 0.0180\n",
      "Epoch 6/30\n",
      "630/630 [==============================] - 62s 89ms/step - total_loss: 0.0341 - class_loss: 0.0114 - regress_loss: 0.0284 - val_total_loss: 0.0286 - val_class_loss: 0.0016 - val_regress_loss: 0.0279\n",
      "Epoch 7/30\n",
      "630/630 [==============================] - 65s 94ms/step - total_loss: 0.0233 - class_loss: 0.0088 - regress_loss: 0.0189 - val_total_loss: 0.0094 - val_class_loss: 8.6522e-04 - val_regress_loss: 0.0090\n",
      "Epoch 8/30\n",
      "630/630 [==============================] - 78s 85ms/step - total_loss: 0.0110 - class_loss: 0.0034 - regress_loss: 0.0093 - val_total_loss: 0.0090 - val_class_loss: 9.8498e-06 - val_regress_loss: 0.0090\n",
      "Epoch 9/30\n",
      "630/630 [==============================] - 59s 86ms/step - total_loss: 0.0222 - class_loss: 0.0069 - regress_loss: 0.0187 - val_total_loss: 0.0098 - val_class_loss: 7.9653e-04 - val_regress_loss: 0.0094\n",
      "Epoch 10/30\n",
      "630/630 [==============================] - 60s 87ms/step - total_loss: 0.0228 - class_loss: 0.0101 - regress_loss: 0.0177 - val_total_loss: 0.0411 - val_class_loss: 0.0034 - val_regress_loss: 0.0393\n",
      "Epoch 11/30\n",
      "630/630 [==============================] - 254s 395ms/step - total_loss: 0.0138 - class_loss: 0.0060 - regress_loss: 0.0108 - val_total_loss: 0.0161 - val_class_loss: 0.0016 - val_regress_loss: 0.0153\n",
      "Epoch 12/30\n",
      "630/630 [==============================] - 54s 79ms/step - total_loss: 0.0132 - class_loss: 0.0030 - regress_loss: 0.0116 - val_total_loss: 0.0182 - val_class_loss: 1.6973e-05 - val_regress_loss: 0.0182\n",
      "Epoch 13/30\n",
      "630/630 [==============================] - 58s 84ms/step - total_loss: 0.0138 - class_loss: 0.0026 - regress_loss: 0.0125 - val_total_loss: 0.0429 - val_class_loss: 5.3938e-04 - val_regress_loss: 0.0426\n",
      "Epoch 14/30\n",
      "630/630 [==============================] - 58s 85ms/step - total_loss: 0.0066 - class_loss: 0.0014 - regress_loss: 0.0059 - val_total_loss: 0.0049 - val_class_loss: 3.6434e-06 - val_regress_loss: 0.0049\n",
      "Epoch 15/30\n",
      "630/630 [==============================] - 59s 85ms/step - total_loss: 0.0040 - class_loss: 6.6967e-04 - regress_loss: 0.0037 - val_total_loss: 0.0108 - val_class_loss: 7.0185e-06 - val_regress_loss: 0.0108\n",
      "Epoch 16/30\n",
      "630/630 [==============================] - 59s 86ms/step - total_loss: 0.0035 - class_loss: 4.3402e-04 - regress_loss: 0.0033 - val_total_loss: 0.0131 - val_class_loss: 4.0694e-05 - val_regress_loss: 0.0131\n",
      "Epoch 17/30\n",
      "630/630 [==============================] - 60s 88ms/step - total_loss: 0.0034 - class_loss: 3.7506e-04 - regress_loss: 0.0032 - val_total_loss: 0.0073 - val_class_loss: 1.1772e-06 - val_regress_loss: 0.0073\n",
      "Epoch 18/30\n",
      "630/630 [==============================] - 61s 89ms/step - total_loss: 0.0032 - class_loss: 1.3619e-04 - regress_loss: 0.0031 - val_total_loss: 0.0183 - val_class_loss: 4.7088e-06 - val_regress_loss: 0.0183\n",
      "Epoch 19/30\n",
      "630/630 [==============================] - 61s 88ms/step - total_loss: 0.0026 - class_loss: 3.7259e-05 - regress_loss: 0.0026 - val_total_loss: 0.0080 - val_class_loss: 1.1638e-05 - val_regress_loss: 0.0080\n",
      "Epoch 20/30\n",
      "630/630 [==============================] - 61s 89ms/step - total_loss: 0.0019 - class_loss: 6.8312e-05 - regress_loss: 0.0018 - val_total_loss: 0.0073 - val_class_loss: 1.0767e-05 - val_regress_loss: 0.0073\n",
      "Epoch 21/30\n",
      "630/630 [==============================] - 61s 89ms/step - total_loss: 0.0021 - class_loss: 3.0429e-05 - regress_loss: 0.0021 - val_total_loss: 0.0065 - val_class_loss: 1.4901e-06 - val_regress_loss: 0.0065\n",
      "Epoch 22/30\n",
      "630/630 [==============================] - 61s 89ms/step - total_loss: 0.0011 - class_loss: 5.1641e-06 - regress_loss: 0.0011 - val_total_loss: 0.0165 - val_class_loss: 9.9838e-07 - val_regress_loss: 0.0165\n",
      "Epoch 23/30\n",
      "630/630 [==============================] - 61s 89ms/step - total_loss: 9.4511e-04 - class_loss: 4.6576e-06 - regress_loss: 9.4278e-04 - val_total_loss: 0.0432 - val_class_loss: 6.9888e-06 - val_regress_loss: 0.0432\n",
      "Epoch 24/30\n",
      "630/630 [==============================] - 61s 88ms/step - total_loss: 0.0011 - class_loss: 4.1512e-06 - regress_loss: 0.0011 - val_total_loss: 0.0238 - val_class_loss: 5.5134e-07 - val_regress_loss: 0.0238\n",
      "Epoch 25/30\n",
      "630/630 [==============================] - 61s 89ms/step - total_loss: 9.0454e-04 - class_loss: 3.9109e-06 - regress_loss: 9.0259e-04 - val_total_loss: 0.0075 - val_class_loss: 3.3528e-07 - val_regress_loss: 0.0075\n",
      "Epoch 26/30\n",
      "630/630 [==============================] - 62s 90ms/step - total_loss: 8.8024e-04 - class_loss: 3.4911e-06 - regress_loss: 8.7849e-04 - val_total_loss: 0.0179 - val_class_loss: 3.2485e-06 - val_regress_loss: 0.0179\n",
      "Epoch 27/30\n",
      "630/630 [==============================] - 62s 90ms/step - total_loss: 0.0010 - class_loss: 1.0998e-05 - regress_loss: 0.0010 - val_total_loss: 0.0104 - val_class_loss: 1.4156e-07 - val_regress_loss: 0.0104\n",
      "Epoch 28/30\n",
      "630/630 [==============================] - 61s 89ms/step - total_loss: 0.0029 - class_loss: 0.0021 - regress_loss: 0.0019 - val_total_loss: 0.0046 - val_class_loss: 1.6987e-06 - val_regress_loss: 0.0046\n",
      "Epoch 29/30\n",
      "630/630 [==============================] - 62s 91ms/step - total_loss: 5.6431e-04 - class_loss: 1.2205e-05 - regress_loss: 5.5821e-04 - val_total_loss: 0.0177 - val_class_loss: 2.5630e-06 - val_regress_loss: 0.0177\n",
      "Epoch 30/30\n",
      "630/630 [==============================] - 62s 90ms/step - total_loss: 5.4106e-04 - class_loss: 6.1108e-06 - regress_loss: 5.3801e-04 - val_total_loss: 0.0063 - val_class_loss: 1.1772e-06 - val_regress_loss: 0.0063\n"
     ]
    }
   ],
   "source": [
    "history = model.fit(train,\n",
    "                    epochs = 30, \n",
    "                    validation_data = val,\n",
    "                    callbacks = [tensorboard_callback])"
   ]
  },
  {
   "cell_type": "code",
   "execution_count": 40,
   "metadata": {},
   "outputs": [
    {
     "data": {
      "text/plain": [
       "{'total_loss': [0.7070997357368469,\n",
       "  0.08193756639957428,\n",
       "  0.47331082820892334,\n",
       "  0.442219614982605,\n",
       "  0.018704617395997047,\n",
       "  0.005374705418944359,\n",
       "  1.5474708080291748,\n",
       "  0.02058652974665165,\n",
       "  0.006257086992263794,\n",
       "  0.009209863841533661,\n",
       "  0.004602562636137009,\n",
       "  0.005123309791088104,\n",
       "  0.01210607960820198,\n",
       "  0.003671094076707959,\n",
       "  0.0011856548953801394,\n",
       "  0.0013841725885868073,\n",
       "  0.0018623359501361847,\n",
       "  0.0008079595863819122,\n",
       "  0.001394877559505403,\n",
       "  0.00199553812853992,\n",
       "  0.0009317309595644474,\n",
       "  0.0006557807791978121,\n",
       "  0.0007322736782953143,\n",
       "  0.0019712354987859726,\n",
       "  0.0008339052437804639,\n",
       "  0.0007044936646707356,\n",
       "  0.0003081443428527564,\n",
       "  0.0012285353150218725,\n",
       "  0.00017809898417908698,\n",
       "  0.000293161254376173],\n",
       " 'class_loss': [0.30726227164268494,\n",
       "  0.01826103962957859,\n",
       "  0.34571048617362976,\n",
       "  0.3192841708660126,\n",
       "  5.194150435272604e-05,\n",
       "  6.407503860828001e-07,\n",
       "  0.6223909258842468,\n",
       "  0.0008025433635339141,\n",
       "  0.0005769484560005367,\n",
       "  0.003913131542503834,\n",
       "  5.602876171906246e-06,\n",
       "  3.7998245261405827e-06,\n",
       "  1.4454158190346789e-06,\n",
       "  3.129246124444762e-07,\n",
       "  0.0001568737206980586,\n",
       "  1.6391331882914528e-06,\n",
       "  1.6846141079440713e-05,\n",
       "  3.3527903724461794e-06,\n",
       "  1.7375892639392987e-05,\n",
       "  0.00014432896568905562,\n",
       "  1.3411066674962058e-06,\n",
       "  1.6391280155403365e-07,\n",
       "  1.59442720359948e-06,\n",
       "  6.40750442926219e-07,\n",
       "  1.8179471226176247e-06,\n",
       "  3.9128910430008546e-05,\n",
       "  2.868500359909376e-06,\n",
       "  2.533198824039573e-07,\n",
       "  3.650803137134062e-06,\n",
       "  3.576282949779852e-07],\n",
       " 'regress_loss': [0.5534685850143433,\n",
       "  0.07280704379081726,\n",
       "  0.30045557022094727,\n",
       "  0.2825775444507599,\n",
       "  0.01867864653468132,\n",
       "  0.005374385043978691,\n",
       "  1.236275315284729,\n",
       "  0.020185258239507675,\n",
       "  0.005968612618744373,\n",
       "  0.007253298070281744,\n",
       "  0.004599761217832565,\n",
       "  0.005121409893035889,\n",
       "  0.012105356901884079,\n",
       "  0.0036709376145154238,\n",
       "  0.0011072179768234491,\n",
       "  0.0013833530247211456,\n",
       "  0.0018539128359407187,\n",
       "  0.0008062832057476044,\n",
       "  0.0013861896004527807,\n",
       "  0.0019233736675232649,\n",
       "  0.0009310604073107243,\n",
       "  0.0006556988228112459,\n",
       "  0.0007314764661714435,\n",
       "  0.001970915123820305,\n",
       "  0.0008329962729476392,\n",
       "  0.0006849291967228055,\n",
       "  0.00030671010608784854,\n",
       "  0.0012284086551517248,\n",
       "  0.00017627357738092542,\n",
       "  0.00029298244044184685],\n",
       " 'val_total_loss': [0.14866608381271362,\n",
       "  0.03381195291876793,\n",
       "  0.04290812090039253,\n",
       "  0.027886711061000824,\n",
       "  0.01801166497170925,\n",
       "  0.028643812984228134,\n",
       "  0.009415505453944206,\n",
       "  0.008970307186245918,\n",
       "  0.009827747009694576,\n",
       "  0.04105764999985695,\n",
       "  0.016100404784083366,\n",
       "  0.018243946135044098,\n",
       "  0.04291858896613121,\n",
       "  0.004945519380271435,\n",
       "  0.010820278897881508,\n",
       "  0.01307759154587984,\n",
       "  0.007263488136231899,\n",
       "  0.018265429884195328,\n",
       "  0.007990438491106033,\n",
       "  0.007257747929543257,\n",
       "  0.00648052804172039,\n",
       "  0.01646127738058567,\n",
       "  0.04324878007173538,\n",
       "  0.02383515238761902,\n",
       "  0.007451540324836969,\n",
       "  0.017870571464300156,\n",
       "  0.010388643480837345,\n",
       "  0.004646667279303074,\n",
       "  0.017748216167092323,\n",
       "  0.006332511082291603],\n",
       " 'val_class_loss': [0.011941335164010525,\n",
       "  0.0035012257285416126,\n",
       "  0.004156691022217274,\n",
       "  0.00524723157286644,\n",
       "  6.283032416831702e-05,\n",
       "  0.001584575860761106,\n",
       "  0.0008652238175272942,\n",
       "  9.849829439190216e-06,\n",
       "  0.0007965321419760585,\n",
       "  0.00344250095076859,\n",
       "  0.0016490102279931307,\n",
       "  1.69732538779499e-05,\n",
       "  0.0005393799510784447,\n",
       "  3.6433789318834897e-06,\n",
       "  7.018527412583353e-06,\n",
       "  4.069394344696775e-05,\n",
       "  1.1771945764849079e-06,\n",
       "  4.708813776233001e-06,\n",
       "  1.163816614280222e-05,\n",
       "  1.0766536433948204e-05,\n",
       "  1.4901189615557087e-06,\n",
       "  9.983792779166833e-07,\n",
       "  6.988764653215185e-06,\n",
       "  5.51343475763133e-07,\n",
       "  3.3527624054841e-07,\n",
       "  3.2484820167155704e-06,\n",
       "  1.415611023958263e-07,\n",
       "  1.6987369235721417e-06,\n",
       "  2.5630083655414637e-06,\n",
       "  1.1771950312322588e-06],\n",
       " 'val_regress_loss': [0.14269541203975677,\n",
       "  0.03206133842468262,\n",
       "  0.040829773992300034,\n",
       "  0.025263095274567604,\n",
       "  0.017980249598622322,\n",
       "  0.02785152569413185,\n",
       "  0.008982893079519272,\n",
       "  0.008965382352471352,\n",
       "  0.009429480880498886,\n",
       "  0.039336398243904114,\n",
       "  0.015275899320840836,\n",
       "  0.0182354599237442,\n",
       "  0.04264890030026436,\n",
       "  0.004943697713315487,\n",
       "  0.010816769674420357,\n",
       "  0.013057244941592216,\n",
       "  0.007262899540364742,\n",
       "  0.0182630755007267,\n",
       "  0.007984619587659836,\n",
       "  0.007252364885061979,\n",
       "  0.006479782983660698,\n",
       "  0.016460778191685677,\n",
       "  0.043245285749435425,\n",
       "  0.023834876716136932,\n",
       "  0.007451372686773539,\n",
       "  0.017868947237730026,\n",
       "  0.010388572700321674,\n",
       "  0.004645817913115025,\n",
       "  0.017746934667229652,\n",
       "  0.006331922486424446]}"
      ]
     },
     "execution_count": 40,
     "metadata": {},
     "output_type": "execute_result"
    }
   ],
   "source": [
    "history.history"
   ]
  },
  {
   "cell_type": "markdown",
   "metadata": {},
   "source": [
    "* **Performance:**"
   ]
  },
  {
   "cell_type": "code",
   "execution_count": 42,
   "metadata": {},
   "outputs": [],
   "source": [
    "import matplotlib.pyplot as plt"
   ]
  },
  {
   "cell_type": "code",
   "execution_count": 46,
   "metadata": {},
   "outputs": [
    {
     "data": {
      "image/png": "[encoded data removed]",
      "text/plain": [
       "<Figure size 2000x800 with 3 Axes>"
      ]
     },
     "metadata": {},
     "output_type": "display_data"
    }
   ],
   "source": [
    "fig, ax = plt.subplots(ncols=3, figsize=(20,8))\n",
    "\n",
    "ax[0].plot(history.history['total_loss'], color='teal', label='loss')\n",
    "ax[0].plot(history.history['val_total_loss'], color='orange', label='val loss')\n",
    "ax[0].title.set_text('Loss')\n",
    "ax[0].legend()\n",
    "\n",
    "ax[1].plot(history.history['class_loss'], color='teal', label='class loss')\n",
    "ax[1].plot(history.history['val_class_loss'], color='orange', label='val class loss')\n",
    "ax[1].title.set_text('Classification Loss')\n",
    "ax[1].legend()\n",
    "\n",
    "ax[2].plot(history.history['regress_loss'], color='teal', label='regress loss')\n",
    "ax[2].plot(history.history['val_regress_loss'], color='orange', label='val regress loss')\n",
    "ax[2].title.set_text('Regression Loss')\n",
    "ax[2].legend()\n",
    "\n",
    "plt.show()"
   ]
  },
  {
   "cell_type": "markdown",
   "metadata": {},
   "source": [
    "* **Making predictions:**"
   ]
  },
  {
   "cell_type": "code",
   "execution_count": 48,
   "metadata": {},
   "outputs": [
    {
     "name": "stdout",
     "output_type": "stream",
     "text": [
      "1/1 [==============================] - 0s 33ms/step\n"
     ]
    }
   ],
   "source": [
    "test_data = test.as_numpy_iterator()\n",
    "test_sample = test_data.next()\n",
    "yhat = face_tracker.predict(test_sample[0])"
   ]
  },
  {
   "cell_type": "code",
   "execution_count": 49,
   "metadata": {},
   "outputs": [
    {
     "data": {
      "text/plain": [
       "[array([[1.0000000e+00],\n",
       "        [1.0000000e+00],\n",
       "        [9.9999988e-01],\n",
       "        [9.9999750e-01],\n",
       "        [1.0000000e+00],\n",
       "        [3.3031091e-07],\n",
       "        [9.9999952e-01],\n",
       "        [1.1582476e-04]], dtype=float32),\n",
       " array([[3.5897499e-01, 1.0281747e-01, 9.3944365e-01, 8.9608890e-01],\n",
       "        [3.3561853e-01, 1.9104338e-01, 8.1292313e-01, 8.2171780e-01],\n",
       "        [1.8339665e-03, 1.7880805e-01, 2.9938170e-01, 7.3130769e-01],\n",
       "        [4.8525271e-01, 2.4309124e-01, 7.7986974e-01, 6.2017530e-01],\n",
       "        [6.4985561e-01, 1.7473558e-01, 9.9510729e-01, 7.9163748e-01],\n",
       "        [2.5981138e-04, 4.8614811e-04, 4.9674051e-04, 6.9130101e-04],\n",
       "        [4.7814036e-03, 2.4722111e-01, 3.2692406e-01, 7.7000368e-01],\n",
       "        [2.7807290e-03, 3.1296932e-03, 3.4456404e-03, 4.9382430e-03]],\n",
       "       dtype=float32)]"
      ]
     },
     "execution_count": 49,
     "metadata": {},
     "output_type": "execute_result"
    }
   ],
   "source": [
    "yhat"
   ]
  },
  {
   "cell_type": "code",
   "execution_count": null,
   "metadata": {},
   "outputs": [],
   "source": []
  },
  {
   "cell_type": "markdown",
   "metadata": {},
   "source": [
    "* **`Saving` model:**"
   ]
  },
  {
   "cell_type": "code",
   "execution_count": 58,
   "metadata": {},
   "outputs": [
    {
     "name": "stdout",
     "output_type": "stream",
     "text": [
      "WARNING:tensorflow:Compiled the loaded model, but the compiled metrics have yet to be built. `model.compile_metrics` will be empty until you train or evaluate the model.\n"
     ]
    }
   ],
   "source": [
    "face_tracker.save('FaceDetectionModel.keras')"
   ]
  },
  {
   "cell_type": "code",
   "execution_count": 57,
   "metadata": {},
   "outputs": [
    {
     "name": "stdout",
     "output_type": "stream",
     "text": [
      "Sun Jun  9 17:42:40 2024       \n",
      "+-----------------------------------------------------------------------------------------+\n",
      "| NVIDIA-SMI 551.61                 Driver Version: 551.61         CUDA Version: 12.4     |\n",
      "|-----------------------------------------+------------------------+----------------------+\n",
      "| GPU  Name                     TCC/WDDM  | Bus-Id          Disp.A | Volatile Uncorr. ECC |\n",
      "| Fan  Temp   Perf          Pwr:Usage/Cap |           Memory-Usage | GPU-Util  Compute M. |\n",
      "|                                         |                        |               MIG M. |\n",
      "|=========================================+========================+======================|\n",
      "|   0  NVIDIA GeForce RTX 3050 ...  WDDM  |   00000000:01:00.0  On |                  N/A |\n",
      "| N/A   66C    P8              6W /   60W |    3386MiB /   4096MiB |     11%      Default |\n",
      "|                                         |                        |                  N/A |\n",
      "+-----------------------------------------+------------------------+----------------------+\n",
      "                                                                                         \n",
      "+-----------------------------------------------------------------------------------------+\n",
      "| Processes:                                                                              |\n",
      "|  GPU   GI   CI        PID   Type   Process name                              GPU Memory |\n",
      "|        ID   ID                                                               Usage      |\n",
      "|=========================================================================================|\n",
      "|    0   N/A  N/A       840    C+G   ...5n1h2txyewy\\ShellExperienceHost.exe      N/A      |\n",
      "|    0   N/A  N/A      1780    C+G   ...Programs\\Microsoft VS Code\\Code.exe      N/A      |\n",
      "|    0   N/A  N/A      2732      C   E:\\FaceDetection\\env_py310\\python.exe       N/A      |\n",
      "|    0   N/A  N/A      3324    C+G   ...GeForce Experience\\NVIDIA Share.exe      N/A      |\n",
      "|    0   N/A  N/A      7436    C+G   ...2txyewy\\StartMenuExperienceHost.exe      N/A      |\n",
      "|    0   N/A  N/A      8308    C+G   ....5487.0_x64__8j3eq9eme6ctt\\IGCC.exe      N/A      |\n",
      "|    0   N/A  N/A      8460    C+G   ...siveControlPanel\\SystemSettings.exe      N/A      |\n",
      "|    0   N/A  N/A     11852    C+G   ...__8wekyb3d8bbwe\\WindowsTerminal.exe      N/A      |\n",
      "|    0   N/A  N/A     12964    C+G   ...CBS_cw5n1h2txyewy\\TextInputHost.exe      N/A      |\n",
      "|    0   N/A  N/A     13712    C+G   ...on\\125.0.2535.92\\msedgewebview2.exe      N/A      |\n",
      "|    0   N/A  N/A     17952    C+G   ...ekyb3d8bbwe\\PhoneExperienceHost.exe      N/A      |\n",
      "|    0   N/A  N/A     19468    C+G   C:\\Windows\\explorer.exe                     N/A      |\n",
      "|    0   N/A  N/A     19872    C+G   ...x64__qmba6cd70vzyy\\ArmouryCrate.exe      N/A      |\n",
      "|    0   N/A  N/A     21816    C+G   C:\\Windows\\explorer.exe                     N/A      |\n",
      "|    0   N/A  N/A     22360    C+G   ...t.LockApp_cw5n1h2txyewy\\LockApp.exe      N/A      |\n",
      "|    0   N/A  N/A     24248    C+G   ...nt.CBS_cw5n1h2txyewy\\SearchHost.exe      N/A      |\n",
      "|    0   N/A  N/A     24460    C+G   ...crosoft\\Edge\\Application\\msedge.exe      N/A      |\n",
      "+-----------------------------------------------------------------------------------------+\n"
     ]
    }
   ],
   "source": [
    "!nvidia-smi"
   ]
  }
 ],
 "metadata": {
  "kernelspec": {
   "display_name": "Python 3",
   "language": "python",
   "name": "python3"
  },
  "language_info": {
   "codemirror_mode": {
    "name": "ipython",
    "version": 3
   },
   "file_extension": ".py",
   "mimetype": "text/x-python",
   "name": "python",
   "nbconvert_exporter": "python",
   "pygments_lexer": "ipython3",
   "version": "3.10.14"
  }
 },
 "nbformat": 4,
 "nbformat_minor": 2
}
